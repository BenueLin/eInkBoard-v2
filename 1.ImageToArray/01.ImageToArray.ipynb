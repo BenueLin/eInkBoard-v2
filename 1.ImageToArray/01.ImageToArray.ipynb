{
 "cells": [
  {
   "cell_type": "code",
   "execution_count": null,
   "metadata": {},
   "outputs": [],
   "source": [
    "import numpy as np\n",
    "import cv2\n",
    "import matplotlib\n",
    "import matplotlib.pyplot as plt"
   ]
  },
  {
   "cell_type": "markdown",
   "metadata": {},
   "source": [
    "## 转换背景图"
   ]
  },
  {
   "cell_type": "code",
   "execution_count": null,
   "metadata": {},
   "outputs": [],
   "source": [
    "def read_img(filepath):\n",
    "    img = cv2.imread(filepath, cv2.IMREAD_GRAYSCALE)\n",
    "    img = cv2.resize(img, (400, 300))\n",
    "    return img\n",
    "\n",
    "def generate_C_array(img, threshold = 1, outputfile=False):\n",
    "    flat = (img.flatten() > threshold)  # 转成1/0形式\n",
    "    strs = \"const char IMG0[] = {\\n\"\n",
    "    for i in range(1500):\n",
    "        strs += \"    \"\n",
    "        for j in range(10):\n",
    "            pxs = flat[i * 80 + j * 8: i * 80 + j * 8 + 8]\n",
    "            value = 0\n",
    "            for b in range(8):\n",
    "                value += (not pxs[7-b]) << b\n",
    "            strs += \"%#.2x, \" % (value)\n",
    "        strs += \"\\n\"\n",
    "    strs += \"};\"\n",
    "    \n",
    "    strs = strs[:-5] + strs[-4:]  # 去掉最后一个逗号\n",
    "        \n",
    "    if outputfile:\n",
    "        with open('./模拟灰度的C数组代码.txt', 'w') as f:\n",
    "            f.write(strs)\n",
    "    return strs"
   ]
  },
  {
   "cell_type": "code",
   "execution_count": null,
   "metadata": {
    "tags": []
   },
   "outputs": [],
   "source": [
    "img1 = read_img(\"background.jpg\")\n",
    "\n",
    "plt.imshow(cv2.cvtColor(img1, cv2.COLOR_GRAY2RGB))\n",
    "plt.show()\n",
    "\n",
    "a = generate_C_array(img1, threshold = 205, outputfile=False)\n",
    "print(a)"
   ]
  },
  {
   "cell_type": "code",
   "execution_count": null,
   "metadata": {},
   "outputs": [],
   "source": [
    "img2 = read_img(\"over100k.jpg\")\n",
    "\n",
    "plt.imshow(cv2.cvtColor(img2, cv2.COLOR_GRAY2RGB))\n",
    "plt.show()\n",
    "\n",
    "a = generate_C_array(img2, threshold = 205, outputfile=False)\n",
    "print(a)"
   ]
  },
  {
   "cell_type": "markdown",
   "metadata": {},
   "source": [
    "## 转换数字的图"
   ]
  },
  {
   "cell_type": "code",
   "execution_count": null,
   "metadata": {},
   "outputs": [],
   "source": [
    "digits = cv2.imread(\"font.jpg\", cv2.IMREAD_GRAYSCALE)\n",
    "\n",
    "for i in range(10):\n",
    "    plt.subplot(2, 5, i+1)\n",
    "    plt.imshow(digits[:, i*64: i*64+64])\n"
   ]
  },
  {
   "cell_type": "code",
   "execution_count": null,
   "metadata": {
    "scrolled": true
   },
   "outputs": [],
   "source": [
    "strs = \"const char digits[] = {\\n\"\n",
    "\n",
    "for i in range(10):\n",
    "    digit = digits[:, i*64: i*64+64]\n",
    "    flat = (digit.flatten() > 100)  # 转成1/0形式\n",
    "    \n",
    "    strs += '    /* 大数字 %d  (64*100) */\\n' % (i)\n",
    "    \n",
    "    for i in range(100):\n",
    "        strs += \"    \"\n",
    "        \n",
    "        for j in range(8):\n",
    "            pxs = flat[i * 64 + j * 8: i * 64 + j * 8 + 8]\n",
    "            value = 0\n",
    "            for b in range(8):\n",
    "                value += (not pxs[7-b]) << b\n",
    "            strs += \"%#.2x, \" % (value)\n",
    "        strs += \"\\n\"\n",
    "    \n",
    "strs = strs[:-3] + \"\\n};\"\n",
    "\n",
    "print(strs)"
   ]
  }
 ],
 "metadata": {
  "kernelspec": {
   "name": "python361064bittfcondaconda4dc31753d32b4aab95820deed8095bd0",
   "display_name": "Python 3.6.10 64-bit ('tfconda': conda)"
  },
  "language_info": {
   "codemirror_mode": {
    "name": "ipython",
    "version": 3
   },
   "file_extension": ".py",
   "mimetype": "text/x-python",
   "name": "python",
   "nbconvert_exporter": "python",
   "pygments_lexer": "ipython3",
   "version": "3.6.10"
  },
  "metadata": {
   "interpreter": {
    "hash": "e37bc9b3395dbc61802c7d791bc35840a03a0b260cbba7a8b7165b09da652bf1"
   }
  }
 },
 "nbformat": 4,
 "nbformat_minor": 4
}